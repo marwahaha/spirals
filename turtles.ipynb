{
 "cells": [
  {
   "cell_type": "code",
   "execution_count": 1,
   "metadata": {},
   "outputs": [],
   "source": [
    "import turtle\n",
    "from time import sleep"
   ]
  },
  {
   "cell_type": "code",
   "execution_count": 2,
   "metadata": {},
   "outputs": [],
   "source": [
    "MOVES_PER_REFRESH = 500"
   ]
  },
  {
   "cell_type": "code",
   "execution_count": 3,
   "metadata": {},
   "outputs": [],
   "source": [
    "def go_nowhere(k):\n",
    "    turtle.penup()\n",
    "    for i in range(k):\n",
    "        turtle.forward(1)\n",
    "        turtle.left(180)\n",
    "        turtle.forward(1)\n",
    "        turtle.right(180)\n",
    "    turtle.pendown()"
   ]
  },
  {
   "cell_type": "code",
   "execution_count": 4,
   "metadata": {},
   "outputs": [],
   "source": [
    "def finish():\n",
    "    go_nowhere(MOVES_PER_REFRESH)"
   ]
  },
  {
   "cell_type": "code",
   "execution_count": 5,
   "metadata": {},
   "outputs": [],
   "source": [
    "def make_square(t, l):\n",
    "    for _ in range(4):\n",
    "        t.forward(l)\n",
    "        t.left(90)"
   ]
  },
  {
   "cell_type": "code",
   "execution_count": 6,
   "metadata": {},
   "outputs": [],
   "source": [
    "def reset(clear=True):\n",
    "    turtle.clear() if clear else None\n",
    "    turtle.penup()\n",
    "    turtle.setpos(0, 0)\n",
    "    turtle.pendown()\n",
    "    turtle.seth(0)\n",
    "    finish()"
   ]
  },
  {
   "cell_type": "code",
   "execution_count": 7,
   "metadata": {},
   "outputs": [],
   "source": [
    "def jump_to(x, y):\n",
    "    turtle.penup()\n",
    "    turtle.setpos(x, y)\n",
    "    turtle.pendown()"
   ]
  },
  {
   "cell_type": "code",
   "execution_count": 8,
   "metadata": {},
   "outputs": [],
   "source": [
    "def setup():\n",
    "    turtle.speed(10)\n",
    "    turtle.delay(1)\n",
    "    turtle.tracer(MOVES_PER_REFRESH)\n",
    "    turtle.hideturtle()\n",
    "    turtle.color(\"seagreen\")\n",
    "    turtle.bgcolor(\"black\")\n"
   ]
  },
  {
   "cell_type": "code",
   "execution_count": 9,
   "metadata": {},
   "outputs": [],
   "source": [
    "setup()\n",
    "reset()"
   ]
  },
  {
   "cell_type": "code",
   "execution_count": 10,
   "metadata": {},
   "outputs": [],
   "source": [
    "def spiral(start_x, start_y, iters, num_turns, \n",
    "            turn_angle, size, square_size, jump_in):\n",
    "    jump_to(start_x, start_y)\n",
    "    for s in list(range(1, iters))[::-1]:\n",
    "        for i in range(num_turns):\n",
    "            turtle.left(turn_angle)\n",
    "            turtle.forward(s*size)\n",
    "            make_square(turtle, s*square_size)\n",
    "        turtle.penup()\n",
    "        turtle.left(90)\n",
    "        turtle.forward(jump_in)\n",
    "        turtle.right(90)\n",
    "        turtle.pendown()\n",
    "    finish()"
   ]
  },
  {
   "cell_type": "code",
   "execution_count": 11,
   "metadata": {},
   "outputs": [],
   "source": [
    "# spiral 1\n",
    "reset()\n",
    "spiral(45, -290, 50, 20, 19, 2, 0.6, 3)"
   ]
  },
  {
   "cell_type": "code",
   "execution_count": 12,
   "metadata": {},
   "outputs": [],
   "source": [
    "# spiral 2\n",
    "reset()\n",
    "spiral(45, -255, 50, 20, 19, 1.8, 0.3, 10)"
   ]
  },
  {
   "cell_type": "code",
   "execution_count": 13,
   "metadata": {},
   "outputs": [],
   "source": [
    "# spiral movie 1\n",
    "reset()\n",
    "for i in range(1, 10):\n",
    "    turtle.pencolor(min(1, 0.1 + 0.025*i), max(0, 0.5 - 0.01*i), min(1, 0.22+0.03*i))\n",
    "    reset(clear=True)\n",
    "    spiral(45, -290, 50, 20, 19, 2, i*0.2, 3)\n",
    "    sleep(0.1)"
   ]
  },
  {
   "cell_type": "code",
   "execution_count": 14,
   "metadata": {},
   "outputs": [],
   "source": [
    "# spiral movie 2\n",
    "for i in range(1, 20):\n",
    "    turtle.pencolor(min(1, 0.1 + 0.025*i), max(0, 0.5 - 0.01*i), min(1, 0.22+0.03*i))\n",
    "    reset(clear=True)\n",
    "    spiral(45, -290+7*i, 50, 20, 19+i, 2, 0.2, 3)\n",
    "    sleep(0.1)"
   ]
  },
  {
   "cell_type": "code",
   "execution_count": 15,
   "metadata": {},
   "outputs": [],
   "source": [
    "# spiral movie 3\n",
    "for i in range(1, 13):\n",
    "    turtle.pencolor(min(1, 0.1 + 0.025*2*i), max(0, 0.5 - 0.01*2*i), min(1, 0.22+0.03*2*i))\n",
    "    reset(clear=True)\n",
    "    spiral(45, -255, 100, 10, 20, 1, i*0.2, 1)"
   ]
  },
  {
   "cell_type": "code",
   "execution_count": 18,
   "metadata": {},
   "outputs": [],
   "source": [
    "turtle.done()"
   ]
  },
  {
   "cell_type": "code",
   "execution_count": null,
   "metadata": {},
   "outputs": [],
   "source": []
  }
 ],
 "metadata": {
  "kernelspec": {
   "display_name": "Python 3",
   "language": "python",
   "name": "python3"
  },
  "language_info": {
   "codemirror_mode": {
    "name": "ipython",
    "version": 3
   },
   "file_extension": ".py",
   "mimetype": "text/x-python",
   "name": "python",
   "nbconvert_exporter": "python",
   "pygments_lexer": "ipython3",
   "version": "3.5.5"
  }
 },
 "nbformat": 4,
 "nbformat_minor": 2
}
